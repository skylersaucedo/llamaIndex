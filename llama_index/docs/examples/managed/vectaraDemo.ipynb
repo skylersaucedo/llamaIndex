{
 "cells": [
  {
   "cell_type": "markdown",
   "id": "adf7d63d",
   "metadata": {},
   "source": [
    "<a href=\"https://colab.research.google.com/github/jerryjliu/llama_index/blob/main/docs/examples/managed/vectaraDemo.ipynb\" target=\"_parent\"><img src=\"https://colab.research.google.com/assets/colab-badge.svg\" alt=\"Open In Colab\"/></a>"
   ]
  },
  {
   "cell_type": "markdown",
   "id": "db0855d0",
   "metadata": {},
   "source": [
    "# Vectara Managed Index\n",
    "In this notebook we are going to show how to use [Vectara](https://vectara.com) with LlamaIndex.\n",
    "Vectara is the first example of a \"Managed\" Index, a new type of index in Llama-index which is managed via an API."
   ]
  },
  {
   "cell_type": "markdown",
   "id": "cfe2497c",
   "metadata": {},
   "source": [
    "If you're opening this Notebook on colab, you will probably need to install LlamaIndex 🦙."
   ]
  },
  {
   "cell_type": "code",
   "execution_count": null,
   "id": "028833af",
   "metadata": {},
   "outputs": [],
   "source": [
    "!pip install llama-index"
   ]
  },
  {
   "cell_type": "code",
   "execution_count": null,
   "id": "c2d1c538",
   "metadata": {},
   "outputs": [],
   "source": [
    "from llama_index import SimpleDirectoryReader\n",
    "from llama_index.indices import VectaraIndex\n",
    "\n",
    "import textwrap"
   ]
  },
  {
   "cell_type": "markdown",
   "id": "eda1e218",
   "metadata": {},
   "source": [
    "### Download Data"
   ]
  },
  {
   "cell_type": "code",
   "execution_count": null,
   "id": "9d5ae460",
   "metadata": {},
   "outputs": [],
   "source": [
    "!mkdir -p 'data/paul_graham/'\n",
    "!wget 'https://raw.githubusercontent.com/run-llama/llama_index/main/docs/examples/data/paul_graham/paul_graham_essay.txt' -O 'data/paul_graham/paul_graham_essay.txt'"
   ]
  },
  {
   "cell_type": "markdown",
   "id": "f7010b1d-d1bb-4f08-9309-a328bb4ea396",
   "metadata": {},
   "source": [
    "### Loading documents\n",
    "Load the documents stored in the `paul_graham_essay` using the SimpleDirectoryReader"
   ]
  },
  {
   "cell_type": "code",
   "execution_count": null,
   "id": "c154dd4b",
   "metadata": {},
   "outputs": [
    {
     "name": "stdout",
     "output_type": "stream",
     "text": [
      "Document ID: fe81af94-f315-4e58-a7c6-2625292dc283\n"
     ]
    }
   ],
   "source": [
    "documents = SimpleDirectoryReader(\"../data/10q\").load_data()\n",
    "print(\"Document ID:\", documents[0].doc_id)"
   ]
  },
  {
   "cell_type": "markdown",
   "id": "c0232fd1",
   "metadata": {},
   "source": [
    "### Add the content of the documents into a pre-created Vectara corpus\n",
    "Here we assume an empty corpus is created and the details are available as environment variables:\n",
    "* VECTARA_CORPUS_ID\n",
    "* VECTARA_CUSTOMER_ID\n",
    "* VECTARA_API_KEY"
   ]
  },
  {
   "cell_type": "code",
   "execution_count": null,
   "id": "8dfdb0a2",
   "metadata": {},
   "outputs": [],
   "source": [
    "index = VectaraIndex.from_documents(documents)"
   ]
  },
  {
   "cell_type": "markdown",
   "id": "8ee4473a-094f-4d0a-a825-e1213db07240",
   "metadata": {},
   "source": [
    "### Query the Vectara Index\n",
    "We can now ask questions using the VectaraIndex retriever."
   ]
  },
  {
   "cell_type": "code",
   "execution_count": null,
   "id": "bb174ec3",
   "metadata": {},
   "outputs": [],
   "source": [
    "query = \"what are the main risks?\""
   ]
  },
  {
   "cell_type": "code",
   "execution_count": null,
   "id": "0a2bcc07",
   "metadata": {},
   "outputs": [
    {
     "name": "stdout",
     "output_type": "stream",
     "text": [
      "Our ownership in these entities involves significant risks that are outside our control.\n",
      "--\n",
      "Our ownership in these entities involves significant risks that are outside our control.\n",
      "--\n",
      "Our ownership in these entities involves significant risks that are outside our control.\n",
      "--\n",
      "Autonomous vehicle technologies involve significant risks and liabilities.\n",
      "--\n",
      "We are unable to predict what global or U.S. tax reforms may be proposed or enacted in the future or what effects such future changes would have on our\n",
      "business.\n"
     ]
    }
   ],
   "source": [
    "query_engine = index.as_query_engine(\n",
    "    similarity_top_k=5, n_sentences_before=0, n_sentences_after=0\n",
    ")\n",
    "response = query_engine.retrieve(query)\n",
    "texts = [t.node.text for t in response]\n",
    "print(\"\\n--\\n\".join(texts))"
   ]
  },
  {
   "cell_type": "code",
   "execution_count": null,
   "id": "890f7133",
   "metadata": {},
   "outputs": [
    {
     "name": "stdout",
     "output_type": "stream",
     "text": [
      "The main risks mentioned in the context are significant risks associated with ownership in certain entities that are outside the company's control, as well as significant risks and liabilities related to autonomous vehicle technologies. Additionally, there is a mention of uncertainty regarding future global or U.S. tax reforms and their potential effects on the company's business.\n"
     ]
    }
   ],
   "source": [
    "response = query_engine.query(query)\n",
    "print(response)"
   ]
  },
  {
   "cell_type": "markdown",
   "id": "9e49914a",
   "metadata": {},
   "source": [
    "Vectara supports max-marginal-relevance natively in the backend, and this is available as a query moe. \n",
    "Let's see an example of how to use MMR: We will run the same query \"What is YC?\" but this time we will use MMR where mmr_diversity_bias=1.0 which maximizes the focus on maximum diversity:"
   ]
  },
  {
   "cell_type": "code",
   "execution_count": null,
   "id": "72832e45",
   "metadata": {},
   "outputs": [
    {
     "name": "stdout",
     "output_type": "stream",
     "text": [
      "Our ownership in these entities involves significant risks that are outside our control.\n",
      "--\n",
      "We are unable to predict what global or U.S. tax reforms may be proposed or enacted in the future or what effects such future changes would have on our\n",
      "business.\n",
      "--\n",
      "We are subject to climate change risks, including physical and transitional risks, and if we are unable to manage such risks, our business may be adversely\n",
      "impacted.\n",
      "--\n",
      "Autonomous vehicle technologies involve significant risks and liabilities.\n",
      "--\n",
      "QUANTITATIVE AND QUALITATIVE DISCLOSURES ABOUT MARKET RISK\n",
      "We are exposed to market risks in the ordinary course of our business.\n"
     ]
    }
   ],
   "source": [
    "query_engine = index.as_query_engine(\n",
    "    similarity_top_k=5,\n",
    "    n_sentences_before=0,\n",
    "    n_sentences_after=0,\n",
    "    vectara_query_mode=\"mmr\",\n",
    "    vectara_kwargs={\"mmr_k\": 100, \"mmr_diversity_bias\": 1.0},\n",
    ")\n",
    "response = query_engine.retrieve(query)\n",
    "\n",
    "texts = [t.node.text for t in response]\n",
    "print(\"\\n--\\n\".join(texts))"
   ]
  },
  {
   "cell_type": "markdown",
   "id": "53e76fd1",
   "metadata": {},
   "source": [
    "As you can see, the results in this case are much more diverse, and for example do not contain the same text more than once."
   ]
  },
  {
   "cell_type": "code",
   "execution_count": null,
   "id": "5dafac23",
   "metadata": {},
   "outputs": [
    {
     "name": "stdout",
     "output_type": "stream",
     "text": [
      "The main risks mentioned in the given context are:\n",
      "1. Risks associated with ownership in certain entities.\n",
      "2. Uncertainty regarding future global or U.S. tax reforms and their potential impact on the business.\n",
      "3. Risks related to climate change, including both physical and transitional risks.\n",
      "4. Risks and liabilities associated with autonomous vehicle technologies.\n",
      "5. Market risks that the company is exposed to in the ordinary course of its business.\n"
     ]
    }
   ],
   "source": [
    "response = query_engine.query(query)\n",
    "print(response)"
   ]
  },
  {
   "cell_type": "markdown",
   "id": "12be9556",
   "metadata": {},
   "source": [
    "The resposne is also better as it includes more risk factors mentioned in the original document"
   ]
  }
 ],
 "metadata": {
  "kernelspec": {
   "display_name": "Python 3 (ipykernel)",
   "language": "python",
   "name": "python3"
  },
  "language_info": {
   "codemirror_mode": {
    "name": "ipython",
    "version": 3
   },
   "file_extension": ".py",
   "mimetype": "text/x-python",
   "name": "python",
   "nbconvert_exporter": "python",
   "pygments_lexer": "ipython3"
  }
 },
 "nbformat": 4,
 "nbformat_minor": 5
}
